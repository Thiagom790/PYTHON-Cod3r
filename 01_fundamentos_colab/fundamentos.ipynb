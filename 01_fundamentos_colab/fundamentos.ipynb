{
  "nbformat": 4,
  "nbformat_minor": 0,
  "metadata": {
    "colab": {
      "name": "Fundamentos.ipynb",
      "provenance": [],
      "collapsed_sections": [],
      "authorship_tag": "ABX9TyMJQP94zlgQOz/1sNMDYzTE",
      "include_colab_link": true
    },
    "kernelspec": {
      "name": "python3",
      "display_name": "Python 3"
    },
    "language_info": {
      "name": "python"
    }
  },
  "cells": [
    {
      "cell_type": "markdown",
      "metadata": {
        "id": "view-in-github",
        "colab_type": "text"
      },
      "source": [
        "<a href=\"https://colab.research.google.com/github/Thiagom790/PYTHON-Cod3r/blob/main/01_fundamentos_colab/fundamentos.ipynb\" target=\"_parent\"><img src=\"https://colab.research.google.com/assets/colab-badge.svg\" alt=\"Open In Colab\"/></a>"
      ]
    },
    {
      "cell_type": "markdown",
      "source": [
        "# Primeiros Exemplos"
      ],
      "metadata": {
        "id": "K4vvd3mDTuHg"
      }
    },
    {
      "cell_type": "code",
      "source": [
        "print(\"Primeiro programa 2\")\n",
        "1 \\\n",
        "+ 2\n",
        "\n",
        "help(print)"
      ],
      "metadata": {
        "id": "XZb3rUc7UNsF",
        "colab": {
          "base_uri": "https://localhost:8080/"
        },
        "outputId": "605afffe-1c43-478b-c582-41089b779c35"
      },
      "execution_count": null,
      "outputs": [
        {
          "output_type": "stream",
          "name": "stdout",
          "text": [
            "Primeiro programa 2\n",
            "Help on built-in function print in module builtins:\n",
            "\n",
            "print(...)\n",
            "    print(value, ..., sep=' ', end='\\n', file=sys.stdout, flush=False)\n",
            "    \n",
            "    Prints the values to a stream, or to sys.stdout by default.\n",
            "    Optional keyword arguments:\n",
            "    file:  a file-like object (stream); defaults to the current sys.stdout.\n",
            "    sep:   string inserted between values, default a space.\n",
            "    end:   string appended after the last value, default a newline.\n",
            "    flush: whether to forcibly flush the stream.\n",
            "\n"
          ]
        }
      ]
    },
    {
      "cell_type": "code",
      "source": [
        "1 + 2 + 3\n",
        "4 + 5 + 6"
      ],
      "metadata": {
        "id": "94sIuiS9UpNw"
      },
      "execution_count": null,
      "outputs": []
    },
    {
      "cell_type": "code",
      "source": [
        "print(1 + 2 + 3)\n",
        "print(4 + 5 + 6)"
      ],
      "metadata": {
        "id": "mhI6-YPqUxEK"
      },
      "execution_count": null,
      "outputs": []
    },
    {
      "cell_type": "markdown",
      "source": [
        "# Tipos Básicos"
      ],
      "metadata": {
        "id": "PnK4jm9NVyBa"
      }
    },
    {
      "cell_type": "code",
      "source": [
        "print(True)\n",
        "print(False)\n",
        "print(1.2 + 2)\n",
        "print('Aqui eu falo na lingua!')\n",
        "print(\"Tb funciona.\")\n",
        "print(\"Você é\" + 3 * 'muito' + 'legal!')\n",
        "# print(3 + 'a') -> ambiguidade ai da erro\n",
        "print([1,2,3]) # lista\n",
        "print({'nome': 'Pedro', 'idade': 22}) # Dicionário\n",
        "print(None) "
      ],
      "metadata": {
        "id": "SZyeO_LXV2W0"
      },
      "execution_count": null,
      "outputs": []
    },
    {
      "cell_type": "markdown",
      "source": [
        "# Variaveis"
      ],
      "metadata": {
        "id": "0vsdXMX8XdXt"
      }
    },
    {
      "cell_type": "code",
      "source": [
        "a = 10\n",
        "b = 4.2\n",
        "\n",
        "print(a + b)\n",
        "\n",
        "a = 'Agora sou uma string!'\n",
        "print(a)\n",
        "a\n",
        "b\n",
        "\n",
        "# print(a + b) cuidado com a ambiguidade"
      ],
      "metadata": {
        "id": "2fguUC2qXiBA"
      },
      "execution_count": null,
      "outputs": []
    },
    {
      "cell_type": "markdown",
      "source": [
        "# Comentários"
      ],
      "metadata": {
        "id": "wip1guAWYeTH"
      }
    },
    {
      "cell_type": "code",
      "source": [
        "# asdfsadfadf\n",
        "# asdrfdfasf\n",
        "# asdfsadf\n",
        "\n",
        "# minhas variáveis\n",
        "salario = 3450.66\n",
        "despesas = 2456.2\n",
        "\n",
        "\"\"\"\n",
        "A ideia é calcular o quanto\n",
        "vai sobrar no final do mês!\n",
        "\"\"\"\n",
        "print(salario - despesas)\n",
        "\n",
        "# print(\"Fim\")\n",
        "print(\"Fim verdadeiro\")"
      ],
      "metadata": {
        "id": "rVPQU5LbYlZq"
      },
      "execution_count": null,
      "outputs": []
    },
    {
      "cell_type": "markdown",
      "source": [
        "# Operadores Aritméticos"
      ],
      "metadata": {
        "id": "C8L5lOeRaMTP"
      }
    },
    {
      "cell_type": "code",
      "source": [
        "print(2 + 3)\n",
        "print(4 - 7)\n",
        "print(2 * 5.3)\n",
        "print(9.4 / 3)\n",
        "\n",
        "print(9.4 // 3) # divisão inteira\n",
        "print(2 ** 8) # potencia\n",
        "print(10 % 3)\n",
        "\n",
        "a = 12\n",
        "b = a\n",
        "print(a + b)"
      ],
      "metadata": {
        "id": "JvZQXbgYaRQA"
      },
      "execution_count": null,
      "outputs": []
    },
    {
      "cell_type": "code",
      "source": [
        "# Minhas despesas\n",
        "salario = 3450.45\n",
        "despesas = 2456.2\n",
        "\n",
        "# Resposta do desafio\n",
        "percentual_comprometido = despesas / salario * 100\n",
        "percentual_comprometido"
      ],
      "metadata": {
        "id": "k41w0vo6fgXb"
      },
      "execution_count": null,
      "outputs": []
    },
    {
      "cell_type": "markdown",
      "source": [
        "# Operadores Relacionais"
      ],
      "metadata": {
        "id": "LdTfDg3cgAo0"
      }
    },
    {
      "cell_type": "code",
      "source": [
        "3 > 4\n",
        "4 >= 3\n",
        "1 < 2\n",
        "3 <= 1\n",
        "3 != 2\n",
        "3 == 3\n",
        "2 == '2'"
      ],
      "metadata": {
        "id": "WInqakRCgF3y"
      },
      "execution_count": null,
      "outputs": []
    },
    {
      "cell_type": "markdown",
      "source": [
        "# Operadores de Atrubuição"
      ],
      "metadata": {
        "id": "X_0R7ZnSgr6b"
      }
    },
    {
      "cell_type": "code",
      "source": [
        "a = 3\n",
        "a = a + 7\n",
        "print(a)\n",
        "\n",
        "a += 5 # a = a + 5\n",
        "print(a)\n",
        "\n",
        "a -= 3\n",
        "print(a)\n",
        "\n",
        "a *= 2\n",
        "print(a)\n",
        "\n",
        "a /= 4\n",
        "print(a)\n",
        "\n",
        "a %= 4\n",
        "print(a)\n",
        "\n",
        "a **= 8\n",
        "print(a)\n",
        "\n",
        "a //= 256\n",
        "print(a)"
      ],
      "metadata": {
        "id": "XsToPXBrgxZD"
      },
      "execution_count": null,
      "outputs": []
    },
    {
      "cell_type": "markdown",
      "source": [
        "# Operadores Lógicos"
      ],
      "metadata": {
        "id": "te1BdzfThgkq"
      }
    },
    {
      "cell_type": "code",
      "source": [
        "# True or False\n",
        "7 != 3 and 2 > 3\n",
        "\n",
        "# Tabela verdade do AND\n",
        "True and True\n",
        "True and False\n",
        "True and False\n",
        "False and False\n",
        "True and True and False and True and True and True\n",
        "\n",
        "# Tabela verdade do OR\n",
        "True or True\n",
        "True or False\n",
        "True or False\n",
        "False or False\n",
        "True or True or False or True or True or True\n",
        "\n",
        "# Tabela verdade do XOR\n",
        "True != True\n",
        "True != False\n",
        "False != True\n",
        "False != False\n",
        "\n",
        "# Operador de Negação (unário)\n",
        "not True\n",
        "not False\n",
        "\n",
        "not 0\n",
        "not 1\n",
        "not not -1\n",
        "not not True\n",
        "\n",
        "# Operdaor bit a bit cuidado\n",
        "True & False\n",
        "False | True\n",
        "True ^ False # XOR bit a bit"
      ],
      "metadata": {
        "id": "9pV82D32hljq"
      },
      "execution_count": null,
      "outputs": []
    },
    {
      "cell_type": "code",
      "source": [
        "# Desafio Operadores Lógicos\n",
        "\n",
        "# Os trabalhos \n",
        "trabalho_terca = False\n",
        "trabalho_quinta = False\n",
        "\n",
        "\"\"\"\n",
        "  - Confirmando os 2: TV 50' + Sorvete\n",
        "  - Confirmando apenas 1: TV 32' + Sorvete\n",
        "  - Nenhum confirmado: fica em casa\n",
        "\"\"\"\n",
        "\n",
        "# Minha resposta\n",
        "tv_50 = trabalho_terca and trabalho_quinta\n",
        "tv_32 = trabalho_terca or trabalho_quinta\n",
        "sorvete = tv_50 or tv_32\n",
        "ficar_em_casa = not sorvete\n",
        "\n",
        "# Resposta do professor\n",
        "tv_50 = trabalho_terca and trabalho_quinta\n",
        "sorvete = trabalho_terca or trabalho_quinta\n",
        "tv_32 = trabalho_terca != trabalho_quinta # XOR\n",
        "mais_saudavel = not sorvete\n",
        "\n",
        "print(\"Tv50={} Tv32={} Sorvete={} Saudável={}\"\n",
        "      .format(tv_50, tv_32, sorvete,mais_saudavel))\n",
        "\n",
        "# \"{1}, {2} = {0}\".format(1, False, 'resultado')\n",
        "# \"{}, {} = {}\".format(1, False, 'resultado')"
      ],
      "metadata": {
        "id": "o94fI3FIkVOM"
      },
      "execution_count": null,
      "outputs": []
    },
    {
      "cell_type": "markdown",
      "source": [
        "# Operadores Unários"
      ],
      "metadata": {
        "id": "Y5nuxslLn9og"
      }
    },
    {
      "cell_type": "code",
      "source": [
        "a = 3\n",
        "# a ++ \n",
        "# a += 1\n",
        "# a\n",
        "# a --\n",
        "++a # esses tem outros sentido no python\n",
        "-a\n",
        "+a\n",
        "--a\n",
        "\n",
        "not 0\n",
        "not 1\n",
        "not -2\n",
        "not False\n",
        "not not True"
      ],
      "metadata": {
        "id": "vmegCm7boCSG"
      },
      "execution_count": null,
      "outputs": []
    },
    {
      "cell_type": "markdown",
      "source": [
        "# Operadores Ternários"
      ],
      "metadata": {
        "id": "ka29u2_MwDW_"
      }
    },
    {
      "cell_type": "code",
      "source": [
        "esta_chovendo = True\n",
        "\n",
        "print('Hoje estou com roupas ' + ('secas','molhadas.')[esta_chovendo])\n",
        "print('Hoje estou com roupas ' + ('molhadas. ' if esta_chovendo else 'secas.'))"
      ],
      "metadata": {
        "colab": {
          "base_uri": "https://localhost:8080/"
        },
        "id": "S0MQ3MsewGgI",
        "outputId": "745a8cfd-c3f1-4b12-8cfc-29586f37fc13"
      },
      "execution_count": null,
      "outputs": [
        {
          "output_type": "stream",
          "name": "stdout",
          "text": [
            "Hoje estou com roupas molhadas.\n",
            "Hoje estou com roupas molhadas. \n"
          ]
        }
      ]
    },
    {
      "cell_type": "markdown",
      "source": [
        "# Operadores de Membro"
      ],
      "metadata": {
        "id": "tCZUX3g-xmni"
      }
    },
    {
      "cell_type": "code",
      "source": [
        "# Operador de Membro\n",
        "lista = [1,2,3,\"Ana\", \"Carl\"]\n",
        "2 in lista\n",
        "'Ana' not in lista\n",
        "\n",
        "# Operador de Identidade\n",
        "x = 3\n",
        "y = x\n",
        "z = 3\n",
        "x is y\n",
        "y is z\n",
        "x is not z\n",
        "\n",
        "lista_a = [1, 2, 3]\n",
        "lista_b = lista_a\n",
        "lista_c = [1, 2, 3]\n",
        "\n",
        "lista_a is lista_b\n",
        "lista_b is lista_c\n",
        "lista_a is not lista_c"
      ],
      "metadata": {
        "colab": {
          "base_uri": "https://localhost:8080/"
        },
        "id": "TTX-S92OxqFv",
        "outputId": "9471d7d2-c559-4858-9929-2371eeed9790"
      },
      "execution_count": null,
      "outputs": [
        {
          "output_type": "execute_result",
          "data": {
            "text/plain": [
              "True"
            ]
          },
          "metadata": {},
          "execution_count": 12
        }
      ]
    },
    {
      "cell_type": "markdown",
      "source": [
        "# Builtins"
      ],
      "metadata": {
        "id": "xQK5Hxu5zdFz"
      }
    },
    {
      "cell_type": "code",
      "source": [
        "# type() dessa forma da erro\n",
        "type(1)\n",
        "__builtin__.type('Fala galera!')\n",
        "__builtin__.print(10/3)\n",
        "\n",
        "# __builtin__.help(__builtin__.dir)\n",
        "# dir(__builtin__)\n",
        "nome = 'João da Silva'\n",
        "type(nome)\n",
        "__builtin__.len(nome)\n",
        "\n",
        "dir()"
      ],
      "metadata": {
        "id": "Ve4xP2FWzhCi"
      },
      "execution_count": null,
      "outputs": []
    },
    {
      "cell_type": "markdown",
      "source": [
        "# Conversão de Tipos"
      ],
      "metadata": {
        "id": "R4QLwiRJ2CFt"
      }
    },
    {
      "cell_type": "code",
      "source": [
        "1 + 3\n",
        "'2' + '3'\n",
        "# 2 + '3' da erro\n",
        "\n",
        "a = 2\n",
        "b = '3'\n",
        "\n",
        "print(type(a))\n",
        "print(type(b))\n",
        "\n",
        "print(a + int(b))\n",
        "print(str(a) + b)\n",
        "\n",
        "type(str(a))\n",
        "\n",
        "# print(2 + int('2 legal'))\n",
        "print(2 + float('3.4'))"
      ],
      "metadata": {
        "colab": {
          "base_uri": "https://localhost:8080/"
        },
        "id": "NbkBlzdq2FHd",
        "outputId": "7eacc8a4-594f-4f3a-d255-ab6ec9f27958"
      },
      "execution_count": null,
      "outputs": [
        {
          "output_type": "stream",
          "name": "stdout",
          "text": [
            "<class 'int'>\n",
            "<class 'str'>\n",
            "5\n",
            "23\n",
            "5.4\n"
          ]
        }
      ]
    },
    {
      "cell_type": "markdown",
      "source": [
        "# Coerção Automática"
      ],
      "metadata": {
        "id": "fFgd5_5s21xH"
      }
    },
    {
      "cell_type": "code",
      "source": [
        "10 / 2\n",
        "type(10 / 2)\n",
        "10 / 3\n",
        "10 // 3\n",
        "type(10 // 3)\n",
        "10 // 3.3\n",
        "type(10 // 3.3)\n",
        "10 / 2.5\n",
        "2 + True\n",
        "2 + False\n",
        "type(2 + 1)\n",
        "type(2.5 + 1)"
      ],
      "metadata": {
        "colab": {
          "base_uri": "https://localhost:8080/"
        },
        "id": "d6mBGClg2643",
        "outputId": "e5f2f859-d8b8-4f3c-ff83-dbe4ef4e0c8d"
      },
      "execution_count": null,
      "outputs": [
        {
          "output_type": "execute_result",
          "data": {
            "text/plain": [
              "float"
            ]
          },
          "metadata": {},
          "execution_count": 29
        }
      ]
    },
    {
      "cell_type": "markdown",
      "source": [
        "# Tipos Numéricos"
      ],
      "metadata": {
        "id": "ZTZoonP83qMw"
      }
    },
    {
      "cell_type": "code",
      "source": [
        "dir(int)\n",
        "dir(float)\n",
        "\n",
        "a = 5\n",
        "b = 2.5\n",
        "a / b\n",
        "a + b\n",
        "a * b\n",
        "\n",
        "type(a)\n",
        "type(b)\n",
        "type(a - b)\n",
        "\n",
        "b.is_integer()\n",
        "5.0.is_integer()\n",
        "\n",
        "dir(int)\n",
        "int.__add__(2,3)\n",
        "2 + 3\n",
        "\n",
        "(-2).__abs__()\n",
        "abs(-2)\n",
        "\n",
        "(-3.6).__abs__()\n",
        "dir(float)\n",
        "abs(-3.6)"
      ],
      "metadata": {
        "colab": {
          "base_uri": "https://localhost:8080/"
        },
        "id": "9PSwBKQx3t1F",
        "outputId": "903f1aa5-f7db-42cc-f0b9-7c89235e74f1"
      },
      "execution_count": null,
      "outputs": [
        {
          "output_type": "execute_result",
          "data": {
            "text/plain": [
              "3.6"
            ]
          },
          "metadata": {},
          "execution_count": 47
        }
      ]
    },
    {
      "cell_type": "code",
      "source": [
        "# 1.1 + 2.2\n",
        "from decimal import  Decimal, getcontext\n",
        "Decimal(1) / Decimal(7)\n",
        "\n",
        "getcontext().prec = 4\n",
        "Decimal(1) / Decimal(7)\n",
        "Decimal.max(Decimal(1), Decimal(7))\n",
        "dir(Decimal)\n",
        "\n",
        "1.1 + 2.2\n",
        "getcontext().prec = 10\n",
        "Decimal(1.1) + Decimal(2.2)\n",
        "\n",
        "import decimal\n",
        "dir(decimal)\n",
        "dir()"
      ],
      "metadata": {
        "id": "ojBAaCvjq7vr"
      },
      "execution_count": null,
      "outputs": []
    },
    {
      "cell_type": "markdown",
      "source": [
        "# Tipo String"
      ],
      "metadata": {
        "id": "brhXa6Ugs4Hn"
      }
    },
    {
      "cell_type": "code",
      "source": [
        "dir(str)\n",
        "nome = 'Saulo Pedro'\n",
        "nome\n",
        "nome[0]\n",
        "# nome[0] = 'P' da erro nisso\n",
        "\n",
        "# 'marca d'água' dessa forma da erro com aspas simples\n",
        "\"Dias D'Avila\" == 'Dias D\\'Avila'\n",
        "\"Teste \\\" funciona!\"\n",
        "texto = 'Texto entre apostrófos pode ter \"aspas\"'\n",
        "print(texto)\n",
        "\n",
        "doc = \"\"\" Texto com múltiplas\n",
        "...linhas\"\"\"\n",
        "doc\n",
        "print(\"Texto com múltiplas\\n\\t...linhas\")\n",
        "print(doc)\n",
        "\n",
        "doc2 = '''Também é possível\n",
        "... com 3 aspas simples'''\n",
        "doc2"
      ],
      "metadata": {
        "colab": {
          "base_uri": "https://localhost:8080/",
          "height": 122
        },
        "id": "AzY3Joars92j",
        "outputId": "9023f881-ec40-402b-deea-61dcff543688"
      },
      "execution_count": null,
      "outputs": [
        {
          "output_type": "stream",
          "name": "stdout",
          "text": [
            "Texto entre apostrófos pode ter \"aspas\"\n",
            "Texto com múltiplas\n",
            "\t...linhas\n",
            " Texto com múltiplas\n",
            "...linhas\n"
          ]
        },
        {
          "output_type": "execute_result",
          "data": {
            "application/vnd.google.colaboratory.intrinsic+json": {
              "type": "string"
            },
            "text/plain": [
              "'Também é possível\\n... com 3 aspas simples'"
            ]
          },
          "metadata": {},
          "execution_count": 34
        }
      ]
    },
    {
      "cell_type": "code",
      "source": [
        "nome = \"Ana Paula\"\n",
        "nome[0]\n",
        "nome[6]\n",
        "nome[-3]\n",
        "# dessa forma eu pego a partir do indice 4 pra frente\n",
        "nome[4:]\n",
        "# dessa forma ele vai do indice -5 até o final\n",
        "nome[-5:]\n",
        "# ele vai do até o indice 3 sem ele\n",
        "nome[:3]\n",
        "# daqui ele vai do indice 2 ao indice 5 sem o indice 5\n",
        "nome[2:5]\n",
        "\n",
        "numeros = '1234567890'\n",
        "numeros\n",
        "numeros[::]\n",
        "# dessa forma ele vai por step de 2\n",
        "numeros[::2]\n",
        "numeros[1::2]\n",
        "# dessa forma abaixo eu inverto uma string\n",
        "numeros[::-1]\n",
        "numeros[::-2]\n",
        "\n",
        "nome[::-1]"
      ],
      "metadata": {
        "colab": {
          "base_uri": "https://localhost:8080/",
          "height": 35
        },
        "id": "YxtVSMfJvAGP",
        "outputId": "64bc0be2-9010-4c3d-8055-46665b0685d6"
      },
      "execution_count": null,
      "outputs": [
        {
          "output_type": "execute_result",
          "data": {
            "application/vnd.google.colaboratory.intrinsic+json": {
              "type": "string"
            },
            "text/plain": [
              "'aluaP anA'"
            ]
          },
          "metadata": {},
          "execution_count": 52
        }
      ]
    },
    {
      "cell_type": "code",
      "source": [
        "frase = 'Python é uma linguagem excelente'\n",
        "'py' not in frase\n",
        "'ing' in frase\n",
        "len(frase)\n",
        "frase.lower()\n",
        "frase\n",
        "frase = frase.upper()\n",
        "frase\n",
        "\n",
        "frase.split() # quebra de frase por espaços\n",
        "frase.split('E')\n",
        "\n",
        "# dir(str)\n",
        "# help(str.center)"
      ],
      "metadata": {
        "colab": {
          "base_uri": "https://localhost:8080/"
        },
        "id": "0KezQXlmw7jU",
        "outputId": "8e8ca7cc-4059-46da-8812-424a7cb1df9b"
      },
      "execution_count": null,
      "outputs": [
        {
          "output_type": "execute_result",
          "data": {
            "text/plain": [
              "['PYTHON É UMA LINGUAG', 'M ', 'XC', 'L', 'NT', '']"
            ]
          },
          "metadata": {},
          "execution_count": 72
        }
      ]
    },
    {
      "cell_type": "code",
      "source": [
        "# magic methods\n",
        "a = '123'\n",
        "b = ' de Oliveira 4'\n",
        "a + b\n",
        "a.__add__(b)\n",
        "str.__add__(b, b)\n",
        "\n",
        "dir(str)\n",
        "len(a)\n",
        "a.__len__()\n",
        "'1' in a\n",
        "a.__contains__('1')"
      ],
      "metadata": {
        "colab": {
          "base_uri": "https://localhost:8080/"
        },
        "id": "V7DxZm_RyOpV",
        "outputId": "f8236f81-fa4c-4612-8f99-8cf1b4945edf"
      },
      "execution_count": null,
      "outputs": [
        {
          "output_type": "execute_result",
          "data": {
            "text/plain": [
              "True"
            ]
          },
          "metadata": {},
          "execution_count": 84
        }
      ]
    },
    {
      "cell_type": "markdown",
      "source": [
        "# Lista"
      ],
      "metadata": {
        "id": "eFXDxTH2zW4O"
      }
    },
    {
      "cell_type": "code",
      "source": [
        "lista = []\n",
        "type(lista)\n",
        "dir(list)\n",
        "# help(list)\n",
        "len(lista)\n",
        "lista.append(1)\n",
        "lista.append(5)\n",
        "lista.insert(0,'ducati')\n",
        "print(lista)\n",
        "lista\n",
        "len(lista)\n",
        "\n",
        "nova_lista = [1, 4, 'Ana', 'Bia']\n",
        "nova_lista\n",
        "nova_lista.remove(4) # removo o item 4\n",
        "nova_lista\n",
        "nova_lista.reverse()\n",
        "nova_lista"
      ],
      "metadata": {
        "colab": {
          "base_uri": "https://localhost:8080/"
        },
        "id": "Ypbba6x1zZOf",
        "outputId": "a11d93cf-f27e-4866-d4af-af8542e85051"
      },
      "execution_count": null,
      "outputs": [
        {
          "output_type": "stream",
          "name": "stdout",
          "text": [
            "['ducati', 1, 5]\n"
          ]
        },
        {
          "output_type": "execute_result",
          "data": {
            "text/plain": [
              "['Bia', 'Ana', 1]"
            ]
          },
          "metadata": {},
          "execution_count": 1
        }
      ]
    },
    {
      "cell_type": "code",
      "source": [
        "lista = [1,5, 'Rebeca', 'Guilherme', 3.1415]\n",
        "lista.index(\"Guilherme\")\n",
        "# lista.index(31) da erro \n",
        "lista[2]\n",
        "1 in lista\n",
        "'Rebeca' in lista\n",
        "'Pedro' not in lista\n",
        "lista[0]\n",
        "lista[4]\n",
        "# lista[5] da erro\n",
        "lista[-1]\n",
        "lista[-5]"
      ],
      "metadata": {
        "colab": {
          "base_uri": "https://localhost:8080/"
        },
        "id": "a2quVtCPSA8w",
        "outputId": "e0840c23-1313-4dcb-969d-1fc6debf6b3e"
      },
      "execution_count": null,
      "outputs": [
        {
          "output_type": "execute_result",
          "data": {
            "text/plain": [
              "1"
            ]
          },
          "metadata": {},
          "execution_count": 23
        }
      ]
    },
    {
      "cell_type": "code",
      "source": [
        "lista = ['Ana', 'Lia', 'Rui', 'Paulo', 'Dani']\n",
        "lista[1:3]\n",
        "lista[1:-1]\n",
        "lista[1:]\n",
        "lista[:-1]\n",
        "lista[:]\n",
        "lista[::2] \n",
        "lista[::-1]\n",
        "del lista[2]\n",
        "lista\n",
        "del lista[1:]\n",
        "lista"
      ],
      "metadata": {
        "colab": {
          "base_uri": "https://localhost:8080/"
        },
        "id": "mo_njh1kTU_m",
        "outputId": "0bf91015-4e75-47aa-db5c-917fa3fb0910"
      },
      "execution_count": null,
      "outputs": [
        {
          "output_type": "execute_result",
          "data": {
            "text/plain": [
              "['Ana']"
            ]
          },
          "metadata": {},
          "execution_count": 38
        }
      ]
    },
    {
      "cell_type": "markdown",
      "source": [
        "# Tupla"
      ],
      "metadata": {
        "id": "lpuuVBIjUPKX"
      }
    },
    {
      "cell_type": "code",
      "source": [
        "tupla = tuple()\n",
        "tupla = ()\n",
        "dir(tuple)\n",
        "# help(tuple)\n",
        "tupla = ('um')\n",
        "type(tupla)\n",
        "tupla = ('um',)\n",
        "type(tupla)\n",
        "tupla[0]\n",
        "# tupla[0] = novo da erro pois não posso alterar uma tupla\n",
        "cores = ('verde', 'amarelo', 'azul','branco')\n",
        "cores[0]\n",
        "cores[-1]\n",
        "cores[1:]\n",
        "\n",
        "cores.index('amarelo')\n",
        "cores.count('azul')\n",
        "len(cores)"
      ],
      "metadata": {
        "colab": {
          "base_uri": "https://localhost:8080/"
        },
        "id": "3uIqMEpIURUt",
        "outputId": "426d313f-62f2-46f5-ea38-6235c8fc28d0"
      },
      "execution_count": null,
      "outputs": [
        {
          "output_type": "execute_result",
          "data": {
            "text/plain": [
              "4"
            ]
          },
          "metadata": {},
          "execution_count": 1
        }
      ]
    },
    {
      "cell_type": "markdown",
      "source": [
        "# Dicionário"
      ],
      "metadata": {
        "id": "xG3tog_TV7Q8"
      }
    },
    {
      "cell_type": "code",
      "source": [
        "pessoa = {'nome': 'Prof(a). Ana', 'idade': 38, 'cursos':['Ingles', 'Portuges']}\n",
        "# posso fazer no dicionario\n",
        "# idade = 'blabla'\n",
        "# pessoas = {123: 'Thiago', False: 'Teste', idade: 34}\n",
        "type(pessoa)\n",
        "dir(dict)\n",
        "len(pessoa)\n",
        "\n",
        "pessoa\n",
        "pessoa['nome']\n",
        "pessoa['idade']\n",
        "pessoa['cursos']\n",
        "pessoa['cursos'][1]\n",
        "# pessoa['tags']\n",
        "pessoa.keys()\n",
        "pessoa.values()\n",
        "pessoa.items()\n",
        "pessoa.get('idade')\n",
        "pessoa.get('tags')\n",
        "pessoa.get('tags', [])"
      ],
      "metadata": {
        "colab": {
          "base_uri": "https://localhost:8080/"
        },
        "id": "EVG8y8sLV-pf",
        "outputId": "6e6b4c96-aebd-4101-c95c-3e2fe28f8753"
      },
      "execution_count": null,
      "outputs": [
        {
          "output_type": "execute_result",
          "data": {
            "text/plain": [
              "dict_items([('nome', 'Prof(a). Ana'), ('idade', 38), ('cursos', ['Ingles', 'Portuges'])])"
            ]
          },
          "metadata": {},
          "execution_count": 1
        }
      ]
    },
    {
      "cell_type": "code",
      "source": [
        "pessoa = {'nome': 'Prof. Alberto', 'idade': 43, 'cursos':['React', 'Python']}\n",
        "pessoa['idade'] = 44\n",
        "pessoa['cursos'].append('Angular')\n",
        "pessoa\n",
        "pessoa.pop('idade') # ele le e remove\n",
        "\n",
        "pessoa\n",
        "pessoa.update({'idade':40,'Sexo':'M'})\n",
        "pessoa\n",
        "del pessoa['cursos']\n",
        "pessoa\n",
        "pessoa.clear()\n",
        "pessoa\n",
        "pessoa['Nome']  = 'Thiago'\n",
        "pessoa"
      ],
      "metadata": {
        "colab": {
          "base_uri": "https://localhost:8080/"
        },
        "id": "v5m0JVE_YixY",
        "outputId": "ead5ec0b-2d56-4be5-aa39-758ba968506a"
      },
      "execution_count": null,
      "outputs": [
        {
          "output_type": "execute_result",
          "data": {
            "text/plain": [
              "{'Nome': 'Thiago'}"
            ]
          },
          "metadata": {},
          "execution_count": 97
        }
      ]
    },
    {
      "cell_type": "markdown",
      "source": [
        "# Conjunto"
      ],
      "metadata": {
        "id": "WOcnBMtuZ0fc"
      }
    },
    {
      "cell_type": "code",
      "source": [
        "a = {1,2,3}\n",
        "type(a)\n",
        "# a[1] não aceita indice\n",
        "a = set('codddddd3r')\n",
        "print(a)\n",
        "print('3' in a, 4 not in a)\n",
        "{1,2,3} == {3,2,1,3} # é verdadeiro pois ele compara os elementos\n",
        "\n",
        "# operacoes\n",
        "c1 = {1, 2}\n",
        "c2 = {2, 3}\n",
        "c1.union(c2)\n",
        "c1.intersection(c2)\n",
        "c1.update(c2) # é uma união que altera o c1\n",
        "c1\n",
        "# c2 é subconjunto do c1\n",
        "# o simbolo do menor está para o c2 pq o c2 pode ser menor \n",
        "# e estar contido no c1\n",
        "c2 <= c1\n",
        "# c1 é superconjunto de c2\n",
        "c1 >= c2\n",
        "\n",
        "# nesse exemplo é a diferença de 2 conjuntos\n",
        "{1,2,3} - {2}\n",
        "c1 - c2\n",
        "c1 -= {2}\n",
        "c1"
      ],
      "metadata": {
        "colab": {
          "base_uri": "https://localhost:8080/"
        },
        "id": "zTRfA1rDauHx",
        "outputId": "14c7b480-94f7-4fd5-d5bb-8faaccee5204"
      },
      "execution_count": null,
      "outputs": [
        {
          "output_type": "stream",
          "name": "stdout",
          "text": [
            "{'o', 'd', 'c', '3', 'r'}\n",
            "True True\n"
          ]
        },
        {
          "output_type": "execute_result",
          "data": {
            "text/plain": [
              "{1, 3}"
            ]
          },
          "metadata": {},
          "execution_count": 132
        }
      ]
    },
    {
      "cell_type": "markdown",
      "source": [
        "# Interpolação"
      ],
      "metadata": {
        "id": "8eYFpeF-fFYI"
      }
    },
    {
      "cell_type": "code",
      "source": [
        "from string import Template\n",
        "\n",
        "nome, idade = 'Ana', 30.9835\n",
        "\n",
        "# dessa forma é uma mais antida e ele arredonda quando uso o %d para numero\n",
        "print('Nome: %s Idade: %.2f %r %s' % (nome, idade, True, False)) # mais antiga\n",
        "\n",
        "print('Nome: {0} Idade: {1}'.format(nome,idade)) # python < 3.6 recomendavel\n",
        "print(f'Nome: {nome} Idade: {idade} {2 ** 8 + 1}')\n",
        "\n",
        "s = Template('Nome: $n Idade: $idade')\n",
        "print(s.substitute(n=nome, idade=idade))"
      ],
      "metadata": {
        "colab": {
          "base_uri": "https://localhost:8080/"
        },
        "id": "WkOL0EH0fNrW",
        "outputId": "3b47c08e-7e1f-4a60-f100-df8a7e0b8522"
      },
      "execution_count": null,
      "outputs": [
        {
          "output_type": "stream",
          "name": "stdout",
          "text": [
            "Nome: Ana Idade: 30.98 True False\n",
            "Nome: Ana Idade: 30.9835\n",
            "Nome: Ana Idade: 30.9835 257\n",
            "Nome: Ana Idade: 30.9835\n"
          ]
        }
      ]
    }
  ]
}